{
 "cells": [
  {
   "cell_type": "markdown",
   "metadata": {},
   "source": [
    "# 检验情绪指标对于收益率/波动率等预测能力"
   ]
  },
  {
   "cell_type": "code",
   "execution_count": 1,
   "metadata": {},
   "outputs": [],
   "source": [
    "import pandas as pd\n",
    "import warnings\n",
    "warnings.filterwarnings('ignore')\n",
    "import NLP_senti_forecast_main\n"
   ]
  },
  {
   "cell_type": "code",
   "execution_count": 2,
   "metadata": {},
   "outputs": [
    {
     "name": "stderr",
     "output_type": "stream",
     "text": [
      "assign_sentiment: 100%|██████████| 208582/208582 [00:01<00:00, 122025.48it/s]\n",
      "Aligned trade date: 100%|██████████| 208582/208582 [01:00<00:00, 3436.51it/s]\n",
      "100%|██████████| 4/4 [00:00<00:00, 42.78it/s]\n",
      "get share data: 100%|██████████| 4/4 [00:01<00:00,  3.16it/s]\n",
      "Calculate Monthly Lag Return Std and Sharpe: 100%|██████████| 2941/2941 [02:09<00:00, 22.64it/s]\n",
      "Regression: 100%|██████████| 4/4 [00:00<00:00, 28.53it/s]\n",
      "Regression: 100%|██████████| 4/4 [00:00<00:00, 35.25it/s]\n"
     ]
    }
   ],
   "source": [
    "finbert_tone_chinese_output_path = 'finbert_tone_chinese_output.feather'\n",
    "\n",
    "finbert_tone_chinese_stat_info = NLP_senti_forecast_main.sentiment_analysis_score_main(finbert_tone_chinese_output_path)"
   ]
  },
  {
   "cell_type": "code",
   "execution_count": 3,
   "metadata": {},
   "outputs": [],
   "source": [
    "finbert_tone_chinese_stat_info.to_excel(\"finbert_tone_chinese_stat_info.xlsx\", index=False)\n"
   ]
  },
  {
   "cell_type": "code",
   "execution_count": 4,
   "metadata": {},
   "outputs": [
    {
     "name": "stderr",
     "output_type": "stream",
     "text": [
      "assign_sentiment: 100%|██████████| 208582/208582 [00:01<00:00, 126939.20it/s]\n",
      "Aligned trade date: 100%|██████████| 208582/208582 [01:03<00:00, 3261.37it/s]\n",
      "100%|██████████| 4/4 [00:00<00:00, 41.37it/s]\n",
      "get share data: 100%|██████████| 4/4 [00:01<00:00,  3.02it/s]\n",
      "Calculate Monthly Lag Return Std and Sharpe: 100%|██████████| 2941/2941 [02:20<00:00, 20.89it/s]\n",
      "Regression: 100%|██████████| 4/4 [00:00<00:00, 27.94it/s]\n",
      "Regression: 100%|██████████| 4/4 [00:00<00:00, 27.72it/s]\n"
     ]
    }
   ],
   "source": [
    "translate_en_finbert_origin_output_path = 'translate_en_finbert_origin_output.feather'\n",
    "\n",
    "translate_en_finbert_origin_stat_info = NLP_senti_forecast_main.sentiment_analysis_score_main(translate_en_finbert_origin_output_path)"
   ]
  },
  {
   "cell_type": "code",
   "execution_count": 5,
   "metadata": {},
   "outputs": [],
   "source": [
    "translate_en_finbert_origin_stat_info.to_excel(\"translate_en_finbert_origin_stat_info.xlsx\", index=False)"
   ]
  },
  {
   "cell_type": "code",
   "execution_count": null,
   "metadata": {},
   "outputs": [],
   "source": []
  }
 ],
 "metadata": {
  "kernelspec": {
   "display_name": "base",
   "language": "python",
   "name": "python3"
  },
  "language_info": {
   "codemirror_mode": {
    "name": "ipython",
    "version": 3
   },
   "file_extension": ".py",
   "mimetype": "text/x-python",
   "name": "python",
   "nbconvert_exporter": "python",
   "pygments_lexer": "ipython3",
   "version": "3.11.5"
  }
 },
 "nbformat": 4,
 "nbformat_minor": 2
}
